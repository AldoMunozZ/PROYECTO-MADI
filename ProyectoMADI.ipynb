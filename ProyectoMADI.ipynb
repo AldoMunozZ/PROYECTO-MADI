{
  "nbformat": 4,
  "nbformat_minor": 0,
  "metadata": {
    "colab": {
      "provenance": []
    },
    "kernelspec": {
      "name": "python3",
      "display_name": "Python 3"
    },
    "language_info": {
      "name": "python"
    }
  },
  "cells": [
    {
      "cell_type": "code",
      "execution_count": null,
      "metadata": {
        "id": "jgU32O5myW0j"
      },
      "outputs": [],
      "source": [
        "import pandas as pd\n",
        "import numpy as np\n",
        "#AUTOR: ALDO MUÑOZ ZECUA"
      ]
    },
    {
      "cell_type": "code",
      "source": [
        "data = pd.read_csv('da_carpetas-de-investigacion-pgj-cdmx.csv')"
      ],
      "metadata": {
        "id": "Rq2DVI6Lye4N"
      },
      "execution_count": null,
      "outputs": []
    },
    {
      "cell_type": "code",
      "source": [
        "data[\"delito\"].value_counts()"
      ],
      "metadata": {
        "colab": {
          "base_uri": "https://localhost:8080/"
        },
        "id": "6DLejZ2eykGr",
        "outputId": "c9391da4-995b-464b-f5c7-9bf9944c2671"
      },
      "execution_count": null,
      "outputs": [
        {
          "output_type": "execute_result",
          "data": {
            "text/plain": [
              "VIOLENCIA FAMILIAR                                 69517\n",
              "ROBO DE OBJETOS                                    52214\n",
              "ROBO A NEGOCIO SIN VIOLENCIA                       51426\n",
              "FRAUDE                                             45349\n",
              "DENUNCIA DE HECHOS                                 44433\n",
              "                                                   ...  \n",
              "PROCREACION ASISTIDA                                   1\n",
              "EXHORTOS                                               1\n",
              "HOMICIDIO INTENCIONAL Y ROBO DE VEHICULO               1\n",
              "ROBO A PASAJERO EN TREN SUBURBANO CON VIOLENCIA        1\n",
              "CONTRA LA LEY GENERAL DE EXPLOSIVOS                    1\n",
              "Name: delito, Length: 274, dtype: int64"
            ]
          },
          "metadata": {},
          "execution_count": 113
        }
      ]
    },
    {
      "cell_type": "code",
      "source": [
        "data[\"delito\"].unique()"
      ],
      "metadata": {
        "colab": {
          "base_uri": "https://localhost:8080/"
        },
        "id": "Hs0xXaFWJTq4",
        "outputId": "06ec4c5c-7a48-4c3a-b2eb-de31a9eaa23b"
      },
      "execution_count": null,
      "outputs": [
        {
          "output_type": "execute_result",
          "data": {
            "text/plain": [
              "array(['LESIONES CULPOSAS',\n",
              "       'ROBO DE VEHICULO DE SERVICIO PARTICULAR SIN VIOLENCIA',\n",
              "       'ROBO A TRANSEUNTE EN VIA PUBLICA CON VIOLENCIA', 'FRAUDE',\n",
              "       'ROBO A REPARTIDOR CON VIOLENCIA',\n",
              "       'ROBO A TRANSEUNTE DE CELULAR CON VIOLENCIA', 'ROBO DE DINERO',\n",
              "       'LESIONES INTENCIONALES', 'ABUSO DE AUTORIDAD',\n",
              "       'DAÑO EN PROPIEDAD AJENA CULPOSA POR TRÁNSITO VEHICULAR A AUTOMOVIL',\n",
              "       'ROBO DE VEHICULO DE SERVICIO PÚBLICO SIN VIOLENCIA',\n",
              "       'DELITOS AMBIENTALES', 'ROBO DE OBJETOS',\n",
              "       'DAÑO EN PROPIEDAD AJENA INTENCIONAL A AUTOMOVIL',\n",
              "       'VIOLENCIA FAMILIAR', 'NARCOMENUDEO POSESION SIMPLE',\n",
              "       'ROBO DE ACCESORIOS DE AUTO',\n",
              "       'PRIV. ILEGAL DE LA LIB. Y ROBO DE VEHICULO',\n",
              "       'HOMICIDIO POR ARMA DE FUEGO', 'ROBO A NEGOCIO SIN VIOLENCIA',\n",
              "       'ROBO DE VEHICULO DE SERVICIO PARTICULAR CON VIOLENCIA',\n",
              "       'LESIONES CULPOSAS POR TRANSITO VEHICULAR EN COLISION',\n",
              "       'ABANDONO DE PERSONA', 'DAÑO EN PROPIEDAD AJENA CULPOSA',\n",
              "       'AMENAZAS',\n",
              "       'FALSIFICACION DE TITULOS AL PORTADOR Y DOCUMENTOS DE CREDITO PUBLICO',\n",
              "       'LESIONES INTENCIONALES POR GOLPES',\n",
              "       'NEGACION DEL SERVICIO PUBLICO',\n",
              "       'ROBO A CASA HABITACION SIN VIOLENCIA', 'SUSTRACCION DE MENORES',\n",
              "       'PRIVACION DE LA LIBERTAD PERSONAL', 'DENUNCIA DE HECHOS',\n",
              "       'TENTATIVA DE ROBO', 'HOMICIDIOS INTENCIONALES (OTROS)',\n",
              "       'ROBO A NEGOCIO CON VIOLENCIA', 'CONTRA FUNCIONARIOS PUBLICOS',\n",
              "       'DAÑO EN PROPIEDAD AJENA INTENCIONAL',\n",
              "       'ROBO DE PLACA DE AUTOMOVIL', 'ABUSO DE CONFIANZA',\n",
              "       'ROBO A TRANSEUNTE DE CELULAR SIN VIOLENCIA',\n",
              "       'ROBO DE VEHICULO DE SERVICIO PÚBLICO CON VIOLENCIA',\n",
              "       'FALSEDAD DE DECLARACIONES', 'ALLANAMIENTO DE MORADA',\n",
              "       'ROBO A CASA HABITACION Y VEHICULO SIN VIOLENCIA',\n",
              "       'ROBO DE OBJETOS DEL INTERIOR DE UN VEHICULO',\n",
              "       'PERDIDA DE LA VIDA POR OTRAS CAUSAS', 'ROBO DE OBJETOS A ESCUELA',\n",
              "       'RESISTENCIA DE PARTICULARES (SE OPONGA O RESISTA)',\n",
              "       'LESIONES INTENCIONALES POR ARMA DE FUEGO',\n",
              "       'FALSIFICACION DE DOCUMENTOS', 'DESPOJO',\n",
              "       'ROBO A TRANSEUNTE SALIENDO DEL BANCO CON VIOLENCIA',\n",
              "       'ROBO A PASAJERO / CONDUCTOR DE TAXI CON VIOLENCIA',\n",
              "       'LESIONES CULPOSAS ACCIDENTE LABORAL', 'USURPACIÓN DE IDENTIDAD',\n",
              "       'TORTURA', 'LESIONES CULPOSAS POR CAIDA', 'DISCRIMINACION',\n",
              "       'EXTORSION', 'ABUSO SEXUAL',\n",
              "       'ROBO A PASAJERO / CONDUCTOR DE VEHICULO CON VIOLENCIA',\n",
              "       'ATAQUE A LAS VIAS DE COMUNICACION (DAÑO A VIAS O MEDIOS DE TRANSPORTE)',\n",
              "       'PERDIDA DE LA VIDA POR PARO CARDIACO',\n",
              "       'ROBO A PASAJERO A BORDO DE PESERO COLECTIVO SIN VIOLENCIA',\n",
              "       'DAÑO EN PROPIEDAD AJENA INTENCIONAL A BIENES INMUEBLES',\n",
              "       'PERDIDA DE LA VIDA POR CONGESTION ALCOHOLICA',\n",
              "       'ROBO A TRANSEUNTE EN VIA PUBLICA SIN VIOLENCIA',\n",
              "       'ROBO DE MOTOCICLETA CON VIOLENCIA',\n",
              "       'ROBO DE MOTOCICLETA SIN VIOLENCIA',\n",
              "       'LA ADMINISTRACION DE JUSTICIA', 'ROBO DE DOCUMENTOS',\n",
              "       'ROBO DE VEHICULO DE PEDALES', 'PERDIDA DE LA VIDA POR SUICIDIO',\n",
              "       'ROBO DE ALHAJAS', 'ROBO A REPARTIDOR SIN VIOLENCIA',\n",
              "       'SECUESTRO EXPRESS (PARA COMETER ROBO O EXTORSIÓN)',\n",
              "       'NARCOMENUDEO POSESIÓN CON FINES DE VENTA, COMERCIO Y SUMINISTRO',\n",
              "       'ROBO A PASAJERO A BORDO DE TRANSPORTE PÚBLICO CON VIOLENCIA',\n",
              "       'ROBO A PASAJERO A BORDO DE METRO CON VIOLENCIA',\n",
              "       'ROBO A TRANSEUNTE EN NEGOCIO CON VIOLENCIA',\n",
              "       'ROBO A PASAJERO A BORDO DE METROBUS SIN VIOLENCIA',\n",
              "       'PERDIDA DE LA VIDA POR ENFERMEDAD',\n",
              "       'ROBO A PASAJERO A BORDO DE TAXI SIN VIOLENCIA',\n",
              "       'DAÑO SUELO (ACTIVIDAD, INVASIÓN O EXTRACCIÓN)',\n",
              "       'ROBO DE VEHICULO DE SERVICIO OFICIAL SIN VIOLENCIA',\n",
              "       'ROBO A TRANSEUNTE EN PARQUES Y MERCADOS CON VIOLENCIA', 'ABORTO',\n",
              "       'CORRUPCION DE MENORES', 'INSOLVENCIA ALIMENTARIA',\n",
              "       'DAÑO EN PROPIEDAD AJENA INTENCIONAL A NEGOCIO', 'ENCUBRIMIENTO',\n",
              "       'DAÑO EN PROPIEDAD AJENA CULPOSA POR TRÁNSITO VEHICULAR A BIENES INMUEBLES',\n",
              "       'POSESION DE VEHICULO ROBADO',\n",
              "       'LESIONES INTENCIONALES POR ARMA BLANCA', 'TENTATIVA DE HOMICIDIO',\n",
              "       'DELITOS DE ABOGADOS PATRONOS Y LITIGANTES', 'FEMINICIDIO',\n",
              "       'ROBO A PASAJERO A BORDO DE TAXI CON VIOLENCIA',\n",
              "       'TENTATIVA DE EXTORSION',\n",
              "       'EJERCICIO INDEBIDO DEL SERVIDOR PUBLICO',\n",
              "       'USO DE DOCUMENTO FALSO', 'PORTACION ARMA/PROHIB.',\n",
              "       'ROBO DE VEHICULO DE SERVICIO DE TRANSPORTE SIN VIOLENCIA',\n",
              "       'ROBO A TRANSEUNTE EN TERMINAL DE PASAJEROS CON VIOLENCIA',\n",
              "       'DAÑO EN PROPIEDAD AJENA INTENCIONAL A CASA HABITACION',\n",
              "       'LESIONES CULPOSAS POR TRANSITO VEHICULAR',\n",
              "       'ROBO A CASA HABITACION CON VIOLENCIA',\n",
              "       'ROBO A REPARTIDOR Y VEHICULO CON VIOLENCIA',\n",
              "       'ROBO A PASAJERO A BORDO DE PESERO COLECTIVO CON VIOLENCIA',\n",
              "       'RESPONSABILIDAD PROFESIONAL', 'HOMICIDIO POR GOLPES',\n",
              "       'VIOLACION DE CORRESPONDENCIA',\n",
              "       'HOMICIDIO CULPOSO POR ARMA DE FUEGO',\n",
              "       'ROBO A PASAJERO A BORDO DE TRANSPORTE PÚBLICO SIN VIOLENCIA',\n",
              "       'MALTRATO ANIMAL', 'QUEBRANTAMIENTO DE SELLOS', 'ROBO DE FLUIDOS',\n",
              "       'PORNOGRAFIA INFANTIL',\n",
              "       'HOMICIDIO CULPOSO POR TRÁNSITO VEHICULAR (ATROPELLADO)',\n",
              "       'USURPACION DE PROFESION', 'COHECHO', 'ROBO DE ARMA',\n",
              "       'HOMICIDIO CULPOSO POR TRÁNSITO VEHICULAR (COLISION)', 'VIOLACION',\n",
              "       'ROBO DE ANIMALES',\n",
              "       'ROBO A PASAJERO A BORDO DE METRO SIN VIOLENCIA',\n",
              "       'ROBO A PASAJERO EN RTP CON VIOLENCIA',\n",
              "       'HOMICIDIO CULPOSO POR TRÁNSITO VEHICULAR', 'INTIMIDACION',\n",
              "       'CORRUPCION DE MENORES E INCAPACES', 'TENTATIVA DE SUICIDIO',\n",
              "       'VIOLACION EQUIPARADA',\n",
              "       'USO INDEBIDO DE ATRIBUCIONES Y FACULTADES',\n",
              "       'HOMICIDIO POR ARMA BLANCA', 'LESIONES CULPOSAS POR QUEMADURAS',\n",
              "       'PERDIDA DE LA VIDA POR CAIDA', 'TENTATIVA DE VIOLACION',\n",
              "       'ROBO A SUCURSAL BANCARIA (SUPERMERCADO) SIN VIOLENCIA',\n",
              "       'TENTATIVA DE ROBO DE VEHICULO',\n",
              "       'PERDIDA DE LA VIDA POR QUEMADURA', 'BIGAMIA',\n",
              "       'LESIONES CULPOSAS POR CAIDA DE VEHÍCULO EN MOVIMIENTO',\n",
              "       'ROBO A PASAJERO EN TROLEBUS SIN VIOLENCIA',\n",
              "       'REVELACION DE SECRETOS', 'DELITOS ELECTORALES',\n",
              "       'VIOLACION EQUIPARADA Y ROBO DE VEHICULO',\n",
              "       'DESOBEDENCIA DE PARTICULARES',\n",
              "       'ROBO A OFICINA PÚBLICA SIN VIOLENCIA',\n",
              "       'PORTACION DE ARMA DE FUEGO',\n",
              "       'ROBO A REPARTIDOR Y VEHICULO SIN VIOLENCIA',\n",
              "       'ATAQUE A LAS VIAS GENERALES DE COMUNICACIÓN', 'OTROS CULPOSOS',\n",
              "       'DDH RELACIONADAS', 'PERDIDA DE LA VIDA POR PRECIPITACION',\n",
              "       'ACOSO SEXUAL', 'TRATA DE PERSONAS', 'DISPAROS DE ARMA DE FUEGO',\n",
              "       'TENTATIVA DE FRAUDE', 'ROBO DE MAQUINARIA SIN VIOLENCIA',\n",
              "       'DDH OFICIO COLABORACION',\n",
              "       'ROBO A TRANSPORTISTA Y VEHICULO PESADO CON VIOLENCIA',\n",
              "       'HOMICIDIO CULPOSO POR TRÁNSITO VEHICULAR (CAIDA)',\n",
              "       'VIOLACION TUMULTUARIA', 'DDH FRVT',\n",
              "       'PERDIDA DE LA VIDA ASFIXIA POR ALIMENTOS/ LIQUIDOS', 'ESTUPRO',\n",
              "       'ROBO A TRANSEUNTE EN HOTEL CON VIOLENCIA',\n",
              "       'ROBO A TRANSEUNTE EN RESTAURANT CON VIOLENCIA',\n",
              "       'EXPLOTACIÓN DE MENOR O DISCAPACITADO', 'SABOTAJE',\n",
              "       'ROBO A PASAJERO EN TREN LIGERO SIN VIOLENCIA',\n",
              "       'ROBO A NEGOCIO Y VEHICULO CON VIOLENCIA',\n",
              "       'ROBO DE VEHICULO DE SERVICIO OFICIAL CON VIOLENCIA',\n",
              "       'USURPACION DE FUNCIONES', 'PLAGIO O SECUESTRO',\n",
              "       'HOMICIDIO CULPOSO FUERA DEL D.F (ATROPELLADO)', 'DDH ANONIMAS',\n",
              "       'HOMICIDIO CULPOSO',\n",
              "       'ROBO A PASAJERO A BORDO DE METROBUS CON VIOLENCIA',\n",
              "       'ROBO A TRANSEUNTE SALIENDO DEL CAJERO CON VIOLENCIA',\n",
              "       'INTIMIDACION (EVITAR DENUNCIA, APORTE INFORMACIÓN O PRUEBAS)',\n",
              "       'ROBO A TRANSPORTISTA Y VEHICULO PESADO SIN VIOLENCIA',\n",
              "       'CONTRA EL ESTADO CIVIL',\n",
              "       'PERDIDA DE LA VIDA POR SUICIDIO EN EL METRO',\n",
              "       'ROBO A CASA HABITACION Y VEHICULO CON VIOLENCIA',\n",
              "       'DAÑO EN PROPIEDAD AJENA CULPOSA POR TRÁNSITO VEHICULAR A VIAS DE COMUNICACION',\n",
              "       'ROBO A PASAJERO EN AUTOBUS FORANEO SIN VIOLENCIA',\n",
              "       'ROBO A SUCURSAL BANCARIA (SUPERMERCADO) CON VIOLENCIA',\n",
              "       'VIOLACION EQUIPARADA POR CONOCIDO',\n",
              "       'ROBO A TRANSEUNTE EN VIA PUBLICA (NOMINA) CON VIOLENCIA',\n",
              "       'ROBO A PASAJERO EN AUTOBÚS FORÁNEO CON VIOLENCIA',\n",
              "       'COBRANZA ILEGITIMA', 'ROBO A NEGOCIO Y VEHICULO SIN VIOLENCIA',\n",
              "       'DDH FDS', 'PERSONAS EXTRAVIADAS', 'PECULADO',\n",
              "       'ROBO EN INTERIOR DE EMPRESA (NOMINA) SIN VIOLENCIA',\n",
              "       'ROBO A PASAJERO EN RTP SIN VIOLENCIA',\n",
              "       'PERDIDA DE LA VIDA POR INTOXICACION', 'MOTIN',\n",
              "       'OPOSICION A LA OBRA PUBLICA', 'ROBO DE MAQUINARIA CON VIOLENCIA',\n",
              "       'INHUMACIONES Y/O EXHUMACIONES',\n",
              "       'ROBO A PASAJERO EN TROLEBUS CON VIOLENCIA',\n",
              "       'EXPOSICION DE MENORES',\n",
              "       'ROBO DE VEHICULO DE SERVICIO DE TRANSPORTE CON VIOLENCIA',\n",
              "       'ROBO A SUCURSAL BANCARIA (ASALTO BANCARIO) CON VIOLENCIA',\n",
              "       'HOMICIDIO POR AHORCAMIENTO',\n",
              "       'FALSIFICACION DE SELLOS, MARCAS, LLAVES Y OTROS',\n",
              "       'TRAFICO DE INFLUENCIA', 'PERDIDA DE LA VIDA POR ASFIXIA',\n",
              "       'PELIGRO DE CONTAGIO',\n",
              "       'OPERACIONES CON RECURSOS DE PROCEDENCIA ILICITA',\n",
              "       'ROBO EN INTERIOR DE EMPRESA (NOMINA) CON VIOLENCIA',\n",
              "       'PROVOCACION O APOLOGIA DE DELITO',\n",
              "       'ROBO A TRANSEUNTE Y VEHICULO CON VIOLENCIA', 'DDH SIN DATOS',\n",
              "       'PERDIDA DE LA VIDA POR ACCIDENTE LABORAL',\n",
              "       'PERDIDA DE LA VIDA POR AHOGAMIENTO', 'EVASION DE PRESOS',\n",
              "       'ROBO A PASAJERO EN TREN SUBURBANO SIN VIOLENCIA',\n",
              "       'ROBO A TRANSEUNTE EN CINE CON VIOLENCIA',\n",
              "       'ROBO A OFICINA PÚBLICA CON VIOLENCIA', 'DDH REDES',\n",
              "       'COACCION DE SERVIDORES PUBLICOS', 'ENRIQUECIMIENTO ILICITO',\n",
              "       'DESAPARICION FORZADA DE PERSONAS', 'CAMBIO DE USO DE SUELO',\n",
              "       'REGULACIÓN URBANA', 'ATAQUES A LA PAZ PUBLICA',\n",
              "       'ROBO A PASAJERO EN ECOBUS SIN VIOLENCIA',\n",
              "       'ROBO A PASAJERO EN TREN LIGERO CON VIOLENCIA',\n",
              "       'ROBO A PASAJERO EN ECOBUS CON VIOLENCIA', 'DDH OTRAS MATERIAS',\n",
              "       'ROBO DURANTE TRASLADO DE VALORES (NOMINA) SIN VIOLENCIA',\n",
              "       'PERDIDA DE LA VIDA POR DERRUMBE', 'DESACATO',\n",
              "       'PRIVACION DE LA LIBERTAD PERSONAL (REALIZAR ACTO SEXUAL)',\n",
              "       'TRAFICO DE INFANTES',\n",
              "       'HOMICIDIO CULPOSO POR INSTRUMENTO PUNZO CORTANTE',\n",
              "       'ASOCIACION DELICTUOSA',\n",
              "       'HOMICIDIO CULPOSO FUERA DEL D.F (COLISION)',\n",
              "       'ROBO A PASAJERO EN TREN SUBURBANO CON VIOLENCIA',\n",
              "       'DAÑO EN PROPIEDAD AJENA INTENCIONAL A VIAS DE COMUNICACION',\n",
              "       'VARIACION DE NOMBRE O DOMICILIO', 'CONTAMINACIÓN O RESIDUOS',\n",
              "       'DDH CERESO',\n",
              "       'USO INDEBIDO DE CONDECORACIONES UNIFORMES E INSIGNIAS', 'TALA',\n",
              "       'VIOLACION TUMULTUARIA EQUIPARADA POR CONOCIDO', 'OTROS DELITOS',\n",
              "       'ROBO A PASAJERO A BORDO DE PESERO Y VEHICULO CON VIOLENCIA',\n",
              "       'GESTIÓN AMBIENTAL', 'HOMICIDIO INTENCIONAL Y ROBO DE VEHICULO',\n",
              "       'LENOCINIO', 'LESIONES INTENCIONALES Y ROBO DE VEHICULO',\n",
              "       'EXHORTOS', 'DDH INCOMPETENCIA', 'CALUMNIAS',\n",
              "       'ROBO DE VEHICULO Y NOMINA CON VIOLENCIA', 'PROCREACION ASISTIDA',\n",
              "       'ULTRAJES', 'DENUNCIA DE HECHOS POR ROBO DE CELULAR',\n",
              "       'VIOLACION DE LA INTIMIDAD', 'DELITOS CONTRA LA SALUD',\n",
              "       'ROBO DURANTE TRASLADO DE VALORES (NOMINA) CON VIOLENCIA',\n",
              "       'DIFAMACION', 'ENTREGA ILEGITIMA DE UN MENOR', 'CONCUSION',\n",
              "       'PERDIDA DE LA VIDA POR ENVENENAMIENTO', 'PARRICIDIO',\n",
              "       'CONTAGIO VENERERO', 'VIOLACION Y ROBO DE VEHICULO',\n",
              "       'CONTRA LA LEY GENERAL DE EXPLOSIVOS'], dtype=object)"
            ]
          },
          "metadata": {},
          "execution_count": 114
        }
      ]
    },
    {
      "cell_type": "code",
      "source": [
        "ubicaciones=[]\n",
        "for i in data.values:\n",
        "  if(i[8]==\"ACOSO SEXUAL\") and ( not np.isnan(i[17])) and (not np.isnan(i[18])) and (i[17]!=0) and (i[18]!=0):\n",
        "    ubicaciones.append([i[17], i[18]])\n"
      ],
      "metadata": {
        "id": "_nugbDNJykJY"
      },
      "execution_count": null,
      "outputs": []
    },
    {
      "cell_type": "code",
      "source": [
        "ubicaciones_df = pd.DataFrame(ubicaciones, columns=['Latitud', 'Longitud'])"
      ],
      "metadata": {
        "id": "SG7nEhZ2IMEM"
      },
      "execution_count": null,
      "outputs": []
    },
    {
      "cell_type": "code",
      "source": [
        "ubicaciones_df.to_csv('ubicaciones_acoso_sexual.csv', index=False)"
      ],
      "metadata": {
        "id": "COsIEnFuIhsA"
      },
      "execution_count": null,
      "outputs": []
    },
    {
      "cell_type": "markdown",
      "source": [
        "##AQUI INICIA LA EJECUCION PARA EL LECTOR:"
      ],
      "metadata": {
        "id": "aRpnK9fPIrcS"
      }
    },
    {
      "cell_type": "code",
      "source": [
        "ubicaciones=pd.read_csv(\"'ubicaciones_acoso_sexual.csv'\")"
      ],
      "metadata": {
        "id": "BRZIWJ6iIUyX"
      },
      "execution_count": null,
      "outputs": []
    },
    {
      "cell_type": "code",
      "source": [
        "ubicaciones=np.array(ubicaciones)"
      ],
      "metadata": {
        "id": "-_aaRKRDCK92"
      },
      "execution_count": null,
      "outputs": []
    },
    {
      "cell_type": "code",
      "source": [
        "import numpy as np\n",
        "from math import sin, cos, sqrt, atan2, radians\n",
        "\n",
        "def calculate_distance(coord1, coord2, R=6373.0):\n",
        "    dlon = radians(coord1[1]) - radians(coord2[1])\n",
        "    dlat = radians(coord1[0]) - radians(coord2[0])\n",
        "    a = sin(dlat / 2)**2 + cos(coord1[0]) * cos(coord2[0]) * sin(dlon / 2)**2\n",
        "    c = 2 * atan2(sqrt(a), sqrt(1 - a))\n",
        "    distance = R * c\n",
        "    return distance\n",
        "\n",
        "def create_adjacency_matrix(ubicaciones, threshold=2):\n",
        "    num_locations = len(ubicaciones)\n",
        "    G = np.zeros((num_locations, num_locations))\n",
        "    d = np.zeros(num_locations)\n",
        "\n",
        "    for i in range(num_locations):\n",
        "        for j in range(i + 1, num_locations):\n",
        "            distance = calculate_distance(ubicaciones[i], ubicaciones[j])\n",
        "            if distance < threshold:\n",
        "                G[i, j] = 1\n",
        "                G[j, i] = 1\n",
        "                d[i] += 1\n",
        "                d[j] += 1\n",
        "\n",
        "    return G, d\n",
        "\n",
        "threshold_distance = 2\n",
        "adjacency_matrix, degrees = create_adjacency_matrix(ubicaciones, threshold_distance)\n",
        "\n",
        "print(\"Adjacency Matrix:\")\n",
        "print(adjacency_matrix)\n"
      ],
      "metadata": {
        "colab": {
          "base_uri": "https://localhost:8080/"
        },
        "id": "NftRs6rOykL0",
        "outputId": "fc9346b6-bab0-4124-bd9c-598d10d53578"
      },
      "execution_count": null,
      "outputs": [
        {
          "output_type": "stream",
          "name": "stdout",
          "text": [
            "Adjacency Matrix:\n",
            "[[0. 1. 0. ... 0. 0. 0.]\n",
            " [1. 0. 0. ... 0. 0. 0.]\n",
            " [0. 0. 0. ... 0. 0. 0.]\n",
            " ...\n",
            " [0. 0. 0. ... 0. 0. 0.]\n",
            " [0. 0. 0. ... 0. 0. 1.]\n",
            " [0. 0. 0. ... 0. 1. 0.]]\n"
          ]
        }
      ]
    },
    {
      "cell_type": "code",
      "source": [
        "Grafo=np.array(adjacency_matrix)"
      ],
      "metadata": {
        "id": "3sjzfQJG45CF"
      },
      "execution_count": null,
      "outputs": []
    },
    {
      "cell_type": "code",
      "source": [
        "\n",
        "all_cliques = []\n",
        "\n",
        "def is_clique(graph, candidate_nodes, size):\n",
        "    for i in range(1, size):\n",
        "        for j in range(i + 1, size):\n",
        "            if graph[candidate_nodes[i]][candidate_nodes[j]] == 0:\n",
        "                return False\n",
        "    return True\n",
        "\n",
        "def cliques_found(graph, start_node, current_size, target_size, candidate_nodes, degrees):\n",
        "    global all_cliques\n",
        "    for j in range(start_node, len(degrees) - (target_size - current_size)):\n",
        "        if degrees[j] >= target_size - 1:\n",
        "            candidate_nodes[current_size] = j\n",
        "            if is_clique(graph, candidate_nodes, current_size + 1):\n",
        "                if current_size < target_size:\n",
        "                    cliques_found(graph, j, current_size + 1, target_size, candidate_nodes, degrees)\n",
        "                else:\n",
        "                    current_clique = []\n",
        "                    for a in range(1, current_size + 1):\n",
        "                        current_clique.append(candidate_nodes[a])\n",
        "                        graph[candidate_nodes[a]] = np.zeros(len(degrees))\n",
        "                        graph[:, candidate_nodes[a]] = np.zeros(len(degrees))\n",
        "                        degrees[candidate_nodes[a]] = 0\n",
        "                    all_cliques.append(current_clique)\n",
        "\n",
        "degrees = np.sum(Grafo, axis=1)\n",
        "\n",
        "for clique_size in range(20, 9, -1):\n",
        "    candidate_nodes = [0] * (clique_size + 1)\n",
        "    cliques_found(Grafo, 0, 1, clique_size, candidate_nodes, degrees)\n",
        "\n"
      ],
      "metadata": {
        "id": "kbdjxHfzljdn"
      },
      "execution_count": null,
      "outputs": []
    },
    {
      "cell_type": "code",
      "source": [
        "from math import cos, sin, atan2, sqrt, pi\n",
        "\n",
        "def calculate_centroid(geolocalizaciones):\n",
        "    lat_sum = 0\n",
        "    lon_cos_sum = 0\n",
        "    lon_sin_sum = 0\n",
        "\n",
        "    for lat, lon in geolocalizaciones:\n",
        "        lat_rad = float(lat) * pi / 180\n",
        "        lon_rad = float(lon) * pi / 180\n",
        "        lon_cos_sum += cos(lon_rad)\n",
        "        lon_sin_sum += sin(lon_rad)\n",
        "        lat_sum += lat_rad\n",
        "\n",
        "    lon_cos_avg = lon_cos_sum / len(geolocalizaciones)\n",
        "    lon_sin_avg = lon_sin_sum / len(geolocalizaciones)\n",
        "    lat_avg = lat_sum / len(geolocalizaciones)\n",
        "\n",
        "    lon_centroid = atan2(lon_sin_avg, lon_cos_avg)\n",
        "    return lat_avg * 180 / pi, lon_centroid * 180 / pi"
      ],
      "metadata": {
        "id": "t0DIDjE3rXAf"
      },
      "execution_count": null,
      "outputs": []
    },
    {
      "cell_type": "code",
      "source": [
        "centros_atencion = [calculate_centroid(ubicaciones[clique]) for clique in all_cliques]"
      ],
      "metadata": {
        "id": "zDVd8EAruVnQ"
      },
      "execution_count": null,
      "outputs": []
    },
    {
      "cell_type": "code",
      "source": [
        "!pip install folium"
      ],
      "metadata": {
        "colab": {
          "base_uri": "https://localhost:8080/"
        },
        "id": "nLK_CsuwhtSM",
        "outputId": "f9134157-3c8b-4079-dec6-b820137eea80"
      },
      "execution_count": null,
      "outputs": [
        {
          "output_type": "stream",
          "name": "stdout",
          "text": [
            "Requirement already satisfied: folium in /usr/local/lib/python3.10/dist-packages (0.14.0)\n",
            "Requirement already satisfied: branca>=0.6.0 in /usr/local/lib/python3.10/dist-packages (from folium) (0.7.0)\n",
            "Requirement already satisfied: jinja2>=2.9 in /usr/local/lib/python3.10/dist-packages (from folium) (3.1.2)\n",
            "Requirement already satisfied: numpy in /usr/local/lib/python3.10/dist-packages (from folium) (1.23.5)\n",
            "Requirement already satisfied: requests in /usr/local/lib/python3.10/dist-packages (from folium) (2.31.0)\n",
            "Requirement already satisfied: MarkupSafe>=2.0 in /usr/local/lib/python3.10/dist-packages (from jinja2>=2.9->folium) (2.1.3)\n",
            "Requirement already satisfied: charset-normalizer<4,>=2 in /usr/local/lib/python3.10/dist-packages (from requests->folium) (3.3.2)\n",
            "Requirement already satisfied: idna<4,>=2.5 in /usr/local/lib/python3.10/dist-packages (from requests->folium) (3.6)\n",
            "Requirement already satisfied: urllib3<3,>=1.21.1 in /usr/local/lib/python3.10/dist-packages (from requests->folium) (2.0.7)\n",
            "Requirement already satisfied: certifi>=2017.4.17 in /usr/local/lib/python3.10/dist-packages (from requests->folium) (2023.11.17)\n"
          ]
        }
      ]
    },
    {
      "cell_type": "code",
      "source": [
        "lista_tuplas_intercambiada = [(tupla[1], tupla[0]) for tupla in centros_atencion]\n",
        "\n",
        "# Imprimir el resultado\n",
        "print(lista_tuplas_intercambiada)"
      ],
      "metadata": {
        "colab": {
          "base_uri": "https://localhost:8080/"
        },
        "id": "5lLiZNcWy51F",
        "outputId": "353bfd1a-15f0-48fb-a06a-ef5a1d9d0ca3"
      },
      "execution_count": null,
      "outputs": [
        {
          "output_type": "stream",
          "name": "stdout",
          "text": [
            "[(19.40331020179092, -99.17368637455647), (19.33858814935921, -99.15768360586404), (19.455800972611236, -99.17667535825413), (19.35608163823218, -99.06259117752992), (19.447391591013435, -99.12536248245421), (19.368483672423444, -99.1021412078648), (19.400143427470372, -99.20841597403596), (19.33127331916038, -99.00309170095092), (19.304168056652387, -99.12317783822142), (19.430794172108126, -99.14164171917551), (19.303348532442556, -99.10991102944807), (19.431548032739904, -99.15856790958016), (19.45202185004394, -99.07749466187911), (19.343458518656114, -99.04896322687996), (19.414811583228598, -99.11384539007516), (19.392606315876215, -99.19153506429681), (19.51206395414593, -99.13859005189208), (19.47348881822079, -99.19921303059891), (19.46797125943609, -99.09710022869665), (19.31709203278639, -99.18144008186096), (19.370788104374668, -99.0864359013123), (19.385960449601228, -99.13916916742268), (19.467786490587617, -99.15458102569946), (19.33935561788946, -99.06680067179606), (19.428287355195877, -99.18795910851273), (19.388240953046655, -99.05992827401262), (19.380900272100167, -99.17647716424148), (19.40251010852834, -99.13016747699957), (19.41974956837788, -99.14526803627292), (19.415418407637542, -99.16328720724549), (19.3674654380784, -99.19427571274403), (19.443854383163792, -99.13079578360457), (19.425051981369446, -99.11241552158829), (19.369599269995643, -99.14515780035939), (19.434491660812306, -99.14670295017171), (19.447159315241517, -99.15956939930597), (19.386152192815096, -99.16319506691157), (19.444794179803107, -99.13225776904123), (19.429169831107007, -99.14594904344094), (19.339132042366288, -99.02899005733653), (19.292596723104126, -99.22365316656325), (19.45161633476514, -99.09735716658318), (19.295850755603396, -99.24170489887862), (19.434356109330505, -99.07601087323236), (19.36104116162848, -99.18182437960154), (19.28670464457172, -99.16797040902651), (19.272426509262893, -99.09591280338442), (19.373057636070026, -99.24763358862091), (19.428303476053983, -99.17246444924895), (19.403985273166583, -99.22378566375758), (19.266837494091224, -98.99924086576966), (19.460939532187318, -99.11822970003358)]\n"
          ]
        }
      ]
    },
    {
      "cell_type": "code",
      "source": [
        "import folium\n",
        "\n",
        "# Coordenadas de la Ciudad de México\n",
        "lat, lon = 19.4326, -99.1332\n",
        "\n",
        "# Crear un mapa centrado en la Ciudad de México\n",
        "mapa_cdmx = folium.Map(location=[lat, lon], zoom_start=12)\n",
        "\n",
        "# Añadir marcadores al mapa\n",
        "for coord in lista_tuplas_intercambiada:\n",
        "    folium.Marker(location=coord).add_to(mapa_cdmx)\n",
        "\n",
        "# Guardar el mapa como un archivo HTML\n",
        "mapa_cdmx.save('mapa_cdmx.html')\n"
      ],
      "metadata": {
        "id": "0xROV67awfFP"
      },
      "execution_count": null,
      "outputs": []
    }
  ]
}